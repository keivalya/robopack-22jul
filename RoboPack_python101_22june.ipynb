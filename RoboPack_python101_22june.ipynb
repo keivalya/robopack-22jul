{
  "nbformat": 4,
  "nbformat_minor": 0,
  "metadata": {
    "colab": {
      "provenance": []
    },
    "kernelspec": {
      "name": "python3",
      "display_name": "Python 3"
    },
    "language_info": {
      "name": "python"
    }
  },
  "cells": [
    {
      "cell_type": "markdown",
      "source": [
        "# Python / AI / ML\n",
        "\n",
        "## Python Programming\n",
        "- Powerful multi-purpose programming language\n",
        "- Simple and easy-to-use syntax\n",
        "- Most popular first-choice language for beginners!\n",
        "\n",
        "By definition!\n",
        "Python is an interpreted, object-oriented, high-level programming language. As it is general-purpose, it has a wide range of applications from web development, building desktop GUI to scientific and mathematical computing."
      ],
      "metadata": {
        "id": "uPXWhir95o74"
      }
    },
    {
      "cell_type": "code",
      "execution_count": null,
      "metadata": {
        "id": "vmLd7PnW5eZU"
      },
      "outputs": [],
      "source": [
        "print(\"Hello, World!\")"
      ]
    },
    {
      "cell_type": "markdown",
      "source": [
        "## Variables"
      ],
      "metadata": {
        "id": "srxoKsVT7bgI"
      }
    },
    {
      "cell_type": "code",
      "source": [
        "x = 10\n",
        "print(x)"
      ],
      "metadata": {
        "id": "y6DVqEQz7dIJ"
      },
      "execution_count": null,
      "outputs": []
    },
    {
      "cell_type": "markdown",
      "source": [
        "## Datatypes\n",
        "Every value in Python has a datatype. Since everything is an object in Python programming, data types are actually classes and variables are instance (object) of these classes."
      ],
      "metadata": {
        "id": "FC2r6J4e6Z1X"
      }
    },
    {
      "cell_type": "markdown",
      "source": [
        "## List\n",
        "Ordered sequence of items."
      ],
      "metadata": {
        "id": "eNuNE9yb6m_k"
      }
    },
    {
      "cell_type": "code",
      "source": [
        "x = [6, 99, 1.618, 'Mango']\n",
        "print(x, \"is of the type\", type(x))"
      ],
      "metadata": {
        "id": "lba8YJ0m6W5U"
      },
      "execution_count": null,
      "outputs": []
    },
    {
      "cell_type": "markdown",
      "source": [
        "## Dictionary\n",
        "Unordered collection of key-value pairs. Optimized for retrieving data."
      ],
      "metadata": {
        "id": "M1-u9B9G7E36"
      }
    },
    {
      "cell_type": "code",
      "source": [
        "d = {1: \"Mango\", 2: \"Dog\", 3: \"Tour\"}\n",
        "print(d, type(d))\n",
        "\n",
        "d[3]"
      ],
      "metadata": {
        "id": "65k-fsAj7CtJ"
      },
      "execution_count": null,
      "outputs": []
    },
    {
      "cell_type": "markdown",
      "source": [
        "## Arithmetic Operators"
      ],
      "metadata": {
        "id": "HPBzPd8F8g5r"
      }
    },
    {
      "cell_type": "code",
      "source": [
        "print(7+3)\n",
        "print(7-3)\n",
        "print(7*3)\n",
        "print(7/3)\n",
        "print(7//3)\n",
        "print(7%3)\n",
        "print(7**3)"
      ],
      "metadata": {
        "id": "UFGxu_gS7WYe"
      },
      "execution_count": null,
      "outputs": []
    },
    {
      "cell_type": "markdown",
      "source": [
        "## Comparison Operators"
      ],
      "metadata": {
        "id": "4WWVb0PL8kcU"
      }
    },
    {
      "cell_type": "code",
      "source": [
        "print(5>3)\n",
        "print(5<3)\n",
        "print(1==1.0)"
      ],
      "metadata": {
        "id": "8pBDesYz8X4k"
      },
      "execution_count": null,
      "outputs": []
    },
    {
      "cell_type": "markdown",
      "source": [
        "## Logical Operators"
      ],
      "metadata": {
        "id": "oigLmnQf8ymO"
      }
    },
    {
      "cell_type": "code",
      "source": [
        "print(False and True)"
      ],
      "metadata": {
        "id": "qqfdkE5E8vu5"
      },
      "execution_count": null,
      "outputs": []
    },
    {
      "cell_type": "code",
      "source": [],
      "metadata": {
        "id": "Un9w3Z0l9Ec2"
      },
      "execution_count": null,
      "outputs": []
    },
    {
      "cell_type": "markdown",
      "source": [
        "## Function\n",
        "block of organized, reusable (DRY- Don’t Repeat Yourself) code with a name that is used to perform a single, specific task."
      ],
      "metadata": {
        "id": "ZqQUrK48BntM"
      }
    },
    {
      "cell_type": "code",
      "source": [
        "def greet():\n",
        "  print(\"Namaste, welcome to RoboPack!\")\n",
        "\n",
        "greet()"
      ],
      "metadata": {
        "id": "_CDOUzXRBo9O"
      },
      "execution_count": null,
      "outputs": []
    },
    {
      "cell_type": "markdown",
      "source": [
        "# Large Language Models"
      ],
      "metadata": {
        "id": "GRQlKWKKIB5a"
      }
    },
    {
      "cell_type": "code",
      "source": [
        "from transformers import pipeline\n",
        "\n",
        "classifier = pipeline(\"sentiment-analysis\")\n",
        "classifier(\"I am LOVING this RoboPack Workshop so far!\")"
      ],
      "metadata": {
        "id": "ZnQBikHLID8_"
      },
      "execution_count": null,
      "outputs": []
    },
    {
      "cell_type": "code",
      "source": [
        "from transformers import pipeline\n",
        "import gradio as gr\n",
        "\n",
        "def random_response(message, history):\n",
        "    chatbot = pipeline(\"sentiment-analysis\")\n",
        "    conversation = chatbot(message)\n",
        "    return conversation[0][\"label\"]\n",
        "\n",
        "print(random_response(\"I am doing good.\", \"\"))\n",
        "gr.ChatInterface(random_response).launch()"
      ],
      "metadata": {
        "id": "zZvZc8dLIUDl"
      },
      "execution_count": null,
      "outputs": []
    }
  ]
}